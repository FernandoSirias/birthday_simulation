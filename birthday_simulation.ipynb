{
 "cells": [
  {
   "cell_type": "code",
   "execution_count": 80,
   "id": "e6ef035e",
   "metadata": {},
   "outputs": [
    {
     "name": "stdout",
     "output_type": "stream",
     "text": [
      "DescribeResult(nobs=99, minmax=(0.0, 1.0), mean=0.12121212121212122, variance=0.10760667903525045, skewness=2.3211917272131477, kurtosis=3.387931034482759)\n",
      "There is a 12.1% chance that 2 people have the same birthday in a room with 100 people\n",
      " ------------\n",
      "\n",
      "DescribeResult(nobs=599, minmax=(0.0, 1.0), mean=0.5091819699499165, variance=0.25033361064427334, skewness=-0.03673407431667144, kurtosis=-1.998650607784097)\n",
      "There is a 50.9% chance that 2 people have the same birthday in a room with 600 people\n",
      " ------------\n",
      "\n",
      "DescribeResult(nobs=7999, minmax=(0.0, 1.0), mean=0.9544943117889736, variance=0.04344035127421685, skewness=-4.361530683758444, kurtosis=17.022949905366403)\n",
      "There is a 95.4% chance that 2 people have the same birthday in a room with 8000 people\n",
      " ------------\n",
      "\n",
      "DescribeResult(nobs=39999, minmax=(0.0, 1.0), mean=0.9908997724943124, variance=0.009017638811638822, skewness=-10.339078606895187, kurtosis=104.89654643955772)\n",
      "There is a 99.1% chance that 2 people have the same birthday in a room with 40000 people\n",
      " ------------\n",
      "\n"
     ]
    }
   ],
   "source": [
    "import numpy as np\n",
    "from scipy import stats\n",
    "import datetime\n",
    "import random\n",
    "\n",
    "# Created by: Fernando Sirias\n",
    "# This program creates run a simulation to calculate the probability\n",
    "# that 2 people in the same room have the same birthday\n",
    "# * This simulation was made following the Monte Carlo simulation *\n",
    "    \n",
    "def birth_simulation(num_of_simul):\n",
    "    results = np.array([])\n",
    "    births_array = np.array([])\n",
    "    \n",
    "    # Create the dates of a year, it can be any year\n",
    "    start_date = datetime.date(2020, 1, 1)\n",
    "    end_date = datetime.date(2020, 12, 31)\n",
    "    time_diff = end_date - start_date\n",
    "    birth_days = time_diff.days\n",
    "    \n",
    "    # Start of the simulation\n",
    "    for i in range(num_of_simul):\n",
    "        \n",
    "        # Create a random birthdate\n",
    "        random_day = random.randrange(birth_days)\n",
    "        random_date = start_date + datetime.timedelta(days=random_day)\n",
    "        \n",
    "        # If the value is the first simulation, just add the value to the births_array\n",
    "        if len(births_array) == 0:\n",
    "            births_array = np.append(births_array, random_date)\n",
    "        else:\n",
    "            if random_date in births_array:\n",
    "                results = np.append(results, 1)\n",
    "                births_array = np.append(births_array, random_date)\n",
    "            else:\n",
    "                results = np.append(results, 0)\n",
    "                births_array = np.append(births_array, random_date)\n",
    "    print(stats.describe(results))\n",
    "    print(f\"There is a {round(results.mean()*100, 1)}% chance that 2 people have the same birthday in a room with {num_of_simul} people\\n ------------\\n\")\n",
    "    \n",
    "birth_simulation(100)\n",
    "\n",
    "# It takes at least 600 people in the room to have a 50% probability\n",
    "birth_simulation(600)\n",
    "\n",
    "# It takes at least 8000 people in the room to have a 95% probability\n",
    "birth_simulation(8000)\n",
    "\n",
    "# It takes at least 40000 people in the room to have a 99% probability.\n",
    "# NOTE: Take some second to complete.\n",
    "birth_simulation(40000)"
   ]
  }
 ],
 "metadata": {
  "kernelspec": {
   "display_name": "Python 3",
   "language": "python",
   "name": "python3"
  },
  "language_info": {
   "codemirror_mode": {
    "name": "ipython",
    "version": 3
   },
   "file_extension": ".py",
   "mimetype": "text/x-python",
   "name": "python",
   "nbconvert_exporter": "python",
   "pygments_lexer": "ipython3",
   "version": "3.8.8"
  }
 },
 "nbformat": 4,
 "nbformat_minor": 5
}
